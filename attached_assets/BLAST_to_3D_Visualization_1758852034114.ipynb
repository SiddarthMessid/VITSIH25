{
 "cells": [
  {
   "cell_type": "markdown",
   "metadata": {},
   "source": [
    "# BLAST Results to 3D Protein Structure Visualization\n",
    "\n",
    "This notebook demonstrates how to:\n",
    "1. Perform BLAST searches against PDB database\n",
    "2. Extract PDB IDs from BLAST results\n",
    "3. Automatically download PDB structures\n",
    "4. Visualize structures using nglview\n",
    "5. Create interactive comparisons"
   ]
  },
  {
   "cell_type": "markdown",
   "metadata": {},
   "source": [
    "## Cell 1: Import Required Libraries"
   ]
  },
  {
   "cell_type": "code",
   "execution_count": 11,
   "metadata": {},
   "outputs": [
    {
     "name": "stdout",
     "output_type": "stream",
     "text": [
      "All libraries imported successfully!\n"
     ]
    }
   ],
   "source": [
    "# Import all required libraries\n",
    "import os\n",
    "import time\n",
    "import urllib.request\n",
    "import pandas as pd\n",
    "import nglview as nv\n",
    "from Bio import SeqIO, SearchIO\n",
    "from Bio.Blast import NCBIWWW\n",
    "from Bio.PDB import PDBParser\n",
    "from IPython.display import display\n",
    "import ipywidgets as widgets\n",
    "\n",
    "print(\"All libraries imported successfully!\")"
   ]
  },
  {
   "cell_type": "markdown",
   "metadata": {},
   "source": [
    "## Cell 2: Load Your Protein Sequence"
   ]
  },
  {
   "cell_type": "code",
   "execution_count": 14,
   "metadata": {},
   "outputs": [
    {
     "name": "stdout",
     "output_type": "stream",
     "text": [
      "Loaded sequence from single_prot.fasta\n",
      "Sequence length: 2701\n",
      "First 50 amino acids: CTIVFKRVCGVSAARLTPCGTGTSTDVVYRAFDIYNDKVAGFAKFLKTNC\n"
     ]
    }
   ],
   "source": [
    "# Load your protein sequence\n",
    "# Option 1: Load from existing single_prot.fasta (if you have it)\n",
    "try:\n",
    "    seq_record = SeqIO.read(\"Sequence_data/single_prot.fasta\", \"fasta\")\n",
    "    print(f\"Loaded sequence from single_prot.fasta\")\n",
    "    print(f\"Sequence length: {len(seq_record.seq)}\")\n",
    "    print(f\"First 50 amino acids: {seq_record.seq[:50]}\")\n",
    "except FileNotFoundError:\n",
    "    print(\"single_prot.fasta not found. Please run the previous notebook first or use Option 2 below.\")\n",
    "    seq_record = None"
   ]
  },
  {
   "cell_type": "code",
   "execution_count": 15,
   "metadata": {},
   "outputs": [
    {
     "name": "stdout",
     "output_type": "stream",
     "text": [
      "Created sample sequence\n",
      "Sequence length: 119\n",
      "First 50 amino acids:  MARIAGINIPDHKHAVIALTSIYGVGKTRSKAILAAAGIAEDVKISELS\n"
     ]
    }
   ],
   "source": [
    "# Option 2: Create a sample protein sequence for testing\n",
    "# Uncomment and run this if you don't have single_prot.fasta\n",
    "\n",
    "from Bio.Seq import Seq\n",
    "from Bio.SeqRecord import SeqRecord\n",
    "\n",
    "\n",
    "sample_protein = \" MARIAGINIPDHKHAVIALTSIYGVGKTRSKAILAAAGIAEDVKISELSEGQIDTLRDEVAKFVVEGDLRREISMSIKRLMDLGCYRGLRHRRGLPVRGQRTKTNARTRKGPRKPIKK\"\n",
    "\n",
    "# # Create SeqRecord object\n",
    "seq_record = SeqRecord(Seq(sample_protein), id=\"spike_protein\", description=\"SARS-CoV-2 Spike Protein\")\n",
    "\n",
    "print(f\"Created sample sequence\")\n",
    "print(f\"Sequence length: {len(seq_record.seq)}\")\n",
    "print(f\"First 50 amino acids: {seq_record.seq[:50]}\")"
   ]
  },
  {
   "cell_type": "markdown",
   "metadata": {},
   "source": [
    "## Cell 3: Perform BLAST Search"
   ]
  },
  {
   "cell_type": "code",
   "execution_count": 16,
   "metadata": {},
   "outputs": [
    {
     "name": "stdout",
     "output_type": "stream",
     "text": [
      "Starting BLAST search against PDB database...\n",
      "This may take a few minutes. Please wait...\n",
      "BLAST search completed!\n",
      "Found 20 hits\n",
      "Query length: 118 amino acids\n",
      "CPU times: total: 3 s\n",
      "Wall time: 1min 4s\n"
     ]
    }
   ],
   "source": [
    "%%time\n",
    "# Perform BLAST search against PDB database\n",
    "# This may take 2-3 minutes depending on server load\n",
    "\n",
    "if seq_record is not None:\n",
    "    print(\"Starting BLAST search against PDB database...\")\n",
    "    print(\"This may take a few minutes. Please wait...\")\n",
    "    \n",
    "    # Perform BLAST search\n",
    "    result_handle = NCBIWWW.qblast(\n",
    "        program=\"blastp\",\n",
    "        database=\"pdb\", \n",
    "        sequence=seq_record.seq,\n",
    "        expect=0.001,  # E-value threshold\n",
    "        hitlist_size=20  # Number of hits to return\n",
    "    )\n",
    "    \n",
    "    # Parse BLAST results\n",
    "    blast_results = SearchIO.read(result_handle, \"blast-xml\")\n",
    "    \n",
    "    print(f\"BLAST search completed!\")\n",
    "    print(f\"Found {len(blast_results)} hits\")\n",
    "    print(f\"Query length: {blast_results.seq_len} amino acids\")\n",
    "else:\n",
    "    print(\"No sequence loaded. Please run Cell 2 first.\")"
   ]
  },
  {
   "cell_type": "markdown",
   "metadata": {},
   "source": [
    "## Cell 4: Extract PDB IDs from BLAST Results"
   ]
  },
  {
   "cell_type": "code",
   "execution_count": 17,
   "metadata": {},
   "outputs": [
    {
     "name": "stdout",
     "output_type": "stream",
     "text": [
      "Top BLAST Hits:\n",
      " rank pdb_id       evalue  bitscore  identity                                                              description\n",
      "    1   3IYX 7.788200e-82   236.498       118 Chain M, 30S ribosomal protein S13 [Escherichia coli O55:H7 str. CB9615]\n",
      "    2   7QG8 5.034010e-81   234.572       117               Chain F, 30S ribosomal protein S13 [Escherichia coli K-12]\n",
      "    3   3J9Z 7.640480e-81   234.187       117                   Chain SM, 30S ribosomal protein S13 [Escherichia coli]\n",
      "    4   6HRM 3.514520e-80   232.261       116                    Chain r, 30S ribosomal protein S13 [Escherichia coli]\n",
      "    5   4V4V 1.599070e-79   230.720       115           Chain AM, 30S ribosomal subunit protein S13 [Escherichia coli]\n",
      "    6   7JIL 1.863190e-79   230.720       114           Chain r, 30S ribosomal protein S13 [Flavobacterium johnsoniae]\n",
      "    7   2YKR 7.519570e-79   228.794       114         Chain M, 30S RIBOSOMAL PROTEIN S13 [Escherichia coli DH5[alpha]]\n",
      "    8   4V6Y 8.863060e-79   228.794       114              Chain AM, 30S ribosomal protein S13 [Escherichia coli K-12]\n",
      "    9   4V5H 8.699000e-78   226.098       113                   Chain AM, 30S RIBOSOMAL PROTEIN S13 [Escherichia coli]\n",
      "   10   9NL5 1.263950e-77   225.713       112        Chain sm, Small ribosomal subunit protein uS13 [Escherichia coli]\n"
     ]
    }
   ],
   "source": [
    "def extract_pdb_ids_from_blast(blast_results, top_n=10):\n",
    "    \"\"\"\n",
    "    Extract PDB IDs and relevant information from BLAST results\n",
    "    \"\"\"\n",
    "    pdb_list = []\n",
    "    \n",
    "    for i, hit in enumerate(blast_results[:top_n]):\n",
    "        # Extract PDB ID from hit ID\n",
    "        hit_id = hit.id\n",
    "        \n",
    "        # Handle different PDB ID formats\n",
    "        if '|' in hit_id:\n",
    "            # Format: pdb|7D4F|A or similar\n",
    "            parts = hit_id.split('|')\n",
    "            pdb_id = parts[1][:4] if len(parts) > 1 else hit_id[:4]\n",
    "            chain = parts[2] if len(parts) > 2 else 'A'\n",
    "        else:\n",
    "            # Direct PDB ID format\n",
    "            pdb_id = hit_id[:4]\n",
    "            chain = 'A'\n",
    "        \n",
    "        # Get best HSP (High-scoring Segment Pair)\n",
    "        best_hsp = hit[0]\n",
    "        \n",
    "        pdb_info = {\n",
    "            'rank': i + 1,\n",
    "            'pdb_id': pdb_id.upper(),\n",
    "            'chain': chain,\n",
    "            'full_id': hit_id,\n",
    "            'description': hit.description,\n",
    "            'evalue': best_hsp.evalue,\n",
    "            'bitscore': best_hsp.bitscore,\n",
    "            'identity': best_hsp.ident_num,\n",
    "            'alignment_length': best_hsp.aln_span,\n",
    "            'query_start': best_hsp.query_start,\n",
    "            'query_end': best_hsp.query_end,\n",
    "            'hit_start': best_hsp.hit_start,\n",
    "            'hit_end': best_hsp.hit_end\n",
    "        }\n",
    "        \n",
    "        pdb_list.append(pdb_info)\n",
    "    \n",
    "    return pdb_list\n",
    "\n",
    "# Extract PDB information\n",
    "if 'blast_results' in locals():\n",
    "    pdb_hits = extract_pdb_ids_from_blast(blast_results, top_n=10)\n",
    "    \n",
    "    # Display results in a nice table\n",
    "    df_results = pd.DataFrame(pdb_hits)\n",
    "    print(\"Top BLAST Hits:\")\n",
    "    print(df_results[['rank', 'pdb_id', 'evalue', 'bitscore', 'identity', 'description']].to_string(index=False))\n",
    "else:\n",
    "    print(\"No BLAST results found. Please run Cell 3 first.\")"
   ]
  },
  {
   "cell_type": "markdown",
   "metadata": {},
   "source": [
    "## Cell 5: Download PDB Structures"
   ]
  },
  {
   "cell_type": "code",
   "execution_count": 18,
   "metadata": {},
   "outputs": [
    {
     "name": "stdout",
     "output_type": "stream",
     "text": [
      "Downloading top 5 PDB structures...\n",
      "\n",
      "1. Downloading 3IYX...\n",
      "✓ Downloaded 3IYX.pdb successfully\n",
      "\n",
      "2. Downloading 7QG8...\n",
      "✗ Error downloading 7QG8: HTTP Error 404: Not Found\n",
      "\n",
      "3. Downloading 3J9Z...\n",
      "✗ Error downloading 3J9Z: HTTP Error 404: Not Found\n",
      "\n",
      "4. Downloading 6HRM...\n",
      "✗ Error downloading 6HRM: HTTP Error 404: Not Found\n",
      "\n",
      "5. Downloading 4V4V...\n",
      "✗ Error downloading 4V4V: HTTP Error 404: Not Found\n",
      "\n",
      "Download complete! Successfully downloaded 1 structures.\n"
     ]
    }
   ],
   "source": [
    "def download_pdb_structure(pdb_id, download_dir=\"Sequence_data\"):\n",
    "    \"\"\"\n",
    "    Download PDB structure from RCSB PDB\n",
    "    \"\"\"\n",
    "    # Create directory if it doesn't exist\n",
    "    if not os.path.exists(download_dir):\n",
    "        os.makedirs(download_dir)\n",
    "    \n",
    "    pdb_id = pdb_id.upper()\n",
    "    file_path = os.path.join(download_dir, f\"{pdb_id}.pdb\")\n",
    "    \n",
    "    # Check if file already exists\n",
    "    if os.path.exists(file_path):\n",
    "        print(f\"✓ PDB file {pdb_id}.pdb already exists\")\n",
    "        return file_path\n",
    "    \n",
    "    try:\n",
    "        # Download from RCSB PDB\n",
    "        url = f\"https://files.rcsb.org/download/{pdb_id}.pdb\"\n",
    "        urllib.request.urlretrieve(url, file_path)\n",
    "        print(f\"✓ Downloaded {pdb_id}.pdb successfully\")\n",
    "        return file_path\n",
    "    \n",
    "    except Exception as e:\n",
    "        print(f\"✗ Error downloading {pdb_id}: {e}\")\n",
    "        return None\n",
    "\n",
    "def batch_download_pdb_structures(pdb_list, max_downloads=5):\n",
    "    \"\"\"\n",
    "    Download multiple PDB structures\n",
    "    \"\"\"\n",
    "    downloaded_files = []\n",
    "    \n",
    "    print(f\"Downloading top {min(max_downloads, len(pdb_list))} PDB structures...\")\n",
    "    \n",
    "    for i, pdb_info in enumerate(pdb_list[:max_downloads]):\n",
    "        pdb_id = pdb_info['pdb_id']\n",
    "        print(f\"\\n{i+1}. Downloading {pdb_id}...\")\n",
    "        \n",
    "        file_path = download_pdb_structure(pdb_id)\n",
    "        \n",
    "        if file_path:\n",
    "            pdb_info['file_path'] = file_path\n",
    "            downloaded_files.append(pdb_info)\n",
    "        \n",
    "        # Small delay to be nice to the server\n",
    "        time.sleep(0.5)\n",
    "    \n",
    "    print(f\"\\nDownload complete! Successfully downloaded {len(downloaded_files)} structures.\")\n",
    "    return downloaded_files\n",
    "\n",
    "# Download PDB structures\n",
    "if 'pdb_hits' in locals():\n",
    "    downloaded_structures = batch_download_pdb_structures(pdb_hits, max_downloads=5)\n",
    "else:\n",
    "    print(\"No PDB hits found. Please run Cell 4 first.\")"
   ]
  },
  {
   "cell_type": "markdown",
   "metadata": {},
   "source": [
    "## Cell 6: Basic 3D Visualization"
   ]
  },
  {
   "cell_type": "code",
   "execution_count": 19,
   "metadata": {},
   "outputs": [
    {
     "name": "stdout",
     "output_type": "stream",
     "text": [
      "Creating 3D visualizations...\n",
      "\n",
      "=== Structure 1: 3IYX ===\n",
      "Description: Chain M, 30S ribosomal protein S13 [Escherichia coli O55:H7 str. CB9615]...\n",
      "E-value: 7.79e-82\n",
      "Bit Score: 236.5\n",
      "Identity: 118/118 (100.0%)\n"
     ]
    },
    {
     "data": {
      "application/vnd.jupyter.widget-view+json": {
       "model_id": "7659bacf175e45d6ab29c65fc1ab0ea0",
       "version_major": 2,
       "version_minor": 0
      },
      "text/plain": [
       "NGLWidget()"
      ]
     },
     "metadata": {},
     "output_type": "display_data"
    },
    {
     "name": "stdout",
     "output_type": "stream",
     "text": [
      "\n",
      "================================================================================\n",
      "\n"
     ]
    }
   ],
   "source": [
    "def create_basic_visualization(pdb_info):\n",
    "    \"\"\"\n",
    "    Create basic 3D visualization of a PDB structure\n",
    "    \"\"\"\n",
    "    try:\n",
    "        # Parse PDB structure\n",
    "        parser = PDBParser(QUIET=True)  # Suppress warnings\n",
    "        structure = parser.get_structure(pdb_info['pdb_id'], pdb_info['file_path'])\n",
    "        \n",
    "        # Create nglview widget\n",
    "        view = nv.show_biopython(structure)\n",
    "        \n",
    "        # Basic styling\n",
    "        view.clear_representations()\n",
    "        view.add_cartoon(color='spectrum')\n",
    "        \n",
    "        return view\n",
    "        \n",
    "    except Exception as e:\n",
    "        print(f\"Error creating visualization for {pdb_info['pdb_id']}: {e}\")\n",
    "        return None\n",
    "\n",
    "# Create visualizations for downloaded structures\n",
    "if 'downloaded_structures' in locals() and len(downloaded_structures) > 0:\n",
    "    print(\"Creating 3D visualizations...\\n\")\n",
    "    \n",
    "    for i, pdb_info in enumerate(downloaded_structures[:3]):  # Show first 3\n",
    "        print(f\"=== Structure {i+1}: {pdb_info['pdb_id']} ===\")\n",
    "        print(f\"Description: {pdb_info['description'][:80]}...\")\n",
    "        print(f\"E-value: {pdb_info['evalue']:.2e}\")\n",
    "        print(f\"Bit Score: {pdb_info['bitscore']:.1f}\")\n",
    "        print(f\"Identity: {pdb_info['identity']}/{pdb_info['alignment_length']} ({pdb_info['identity']/pdb_info['alignment_length']*100:.1f}%)\")\n",
    "        \n",
    "        view = create_basic_visualization(pdb_info)\n",
    "        if view:\n",
    "            display(view)\n",
    "        \n",
    "        print(\"\\n\" + \"=\"*80 + \"\\n\")\n",
    "else:\n",
    "    print(\"No downloaded structures found. Please run Cell 5 first.\")"
   ]
  },
  {
   "cell_type": "markdown",
   "metadata": {},
   "source": [
    "## Cell 7: Advanced Visualization with Different Styles"
   ]
  },
  {
   "cell_type": "code",
   "execution_count": 20,
   "metadata": {},
   "outputs": [
    {
     "name": "stdout",
     "output_type": "stream",
     "text": [
      "Different visualization styles for 3IYX:\n",
      "Description: Chain M, 30S ribosomal protein S13 [Escherichia coli O55:H7 ...\n",
      "\n",
      "--- CARTOON Style ---\n"
     ]
    },
    {
     "data": {
      "application/vnd.jupyter.widget-view+json": {
       "model_id": "f9be27928a0a4dbbae3642ee45f19439",
       "version_major": 2,
       "version_minor": 0
      },
      "text/plain": [
       "NGLWidget()"
      ]
     },
     "metadata": {},
     "output_type": "display_data"
    },
    {
     "name": "stdout",
     "output_type": "stream",
     "text": [
      "\n",
      "--- SURFACE Style ---\n"
     ]
    },
    {
     "data": {
      "application/vnd.jupyter.widget-view+json": {
       "model_id": "65f5ee984fb2403ba848291d4ed4d740",
       "version_major": 2,
       "version_minor": 0
      },
      "text/plain": [
       "NGLWidget()"
      ]
     },
     "metadata": {},
     "output_type": "display_data"
    },
    {
     "name": "stdout",
     "output_type": "stream",
     "text": [
      "\n",
      "--- RIBBON Style ---\n"
     ]
    },
    {
     "data": {
      "application/vnd.jupyter.widget-view+json": {
       "model_id": "2b7da7f4fbe44897aabf026255928e44",
       "version_major": 2,
       "version_minor": 0
      },
      "text/plain": [
       "NGLWidget()"
      ]
     },
     "metadata": {},
     "output_type": "display_data"
    },
    {
     "name": "stdout",
     "output_type": "stream",
     "text": [
      "\n"
     ]
    }
   ],
   "source": [
    "def create_styled_visualization(pdb_info, style_type=\"cartoon\"):\n",
    "    \"\"\"\n",
    "    Create styled 3D visualization with different representation options\n",
    "    \"\"\"\n",
    "    try:\n",
    "        parser = PDBParser(QUIET=True)\n",
    "        structure = parser.get_structure(pdb_info['pdb_id'], pdb_info['file_path'])\n",
    "        \n",
    "        # Create view\n",
    "        view = nv.show_biopython(structure)\n",
    "        view.clear_representations()\n",
    "        \n",
    "        # Apply different styles\n",
    "        if style_type == \"cartoon\":\n",
    "            view.add_cartoon(color='spectrum')\n",
    "        elif style_type == \"surface\":\n",
    "            view.add_surface(color='hydrophobicity', opacity=0.7)\n",
    "            view.add_cartoon(color='white', opacity=0.3)\n",
    "        elif style_type == \"ball_stick\":\n",
    "            view.add_ball_and_stick()\n",
    "        elif style_type == \"ribbon\":\n",
    "            view.add_ribbon(color='secondary_structure')\n",
    "        elif style_type == \"spacefill\":\n",
    "            view.add_spacefill(color='element')\n",
    "        \n",
    "        # Set camera\n",
    "        view.camera = 'orthographic'\n",
    "        \n",
    "        return view\n",
    "        \n",
    "    except Exception as e:\n",
    "        print(f\"Error creating styled visualization: {e}\")\n",
    "        return None\n",
    "\n",
    "# Create different style visualizations for the best hit\n",
    "if 'downloaded_structures' in locals() and len(downloaded_structures) > 0:\n",
    "    best_hit = downloaded_structures[0]  # Best BLAST hit\n",
    "    \n",
    "    print(f\"Different visualization styles for {best_hit['pdb_id']}:\")\n",
    "    print(f\"Description: {best_hit['description'][:60]}...\\n\")\n",
    "    \n",
    "    styles = [\"cartoon\", \"surface\", \"ribbon\"]\n",
    "    \n",
    "    for style in styles:\n",
    "        print(f\"--- {style.upper()} Style ---\")\n",
    "        view = create_styled_visualization(best_hit, style)\n",
    "        if view:\n",
    "            display(view)\n",
    "        print()\n",
    "else:\n",
    "    print(\"No structures available for styling. Please run previous cells first.\")"
   ]
  },
  {
   "cell_type": "markdown",
   "metadata": {},
   "source": [
    "## Cell 8: Interactive Structure Explorer"
   ]
  },
  {
   "cell_type": "code",
   "execution_count": null,
   "metadata": {},
   "outputs": [
    {
     "data": {
      "application/vnd.jupyter.widget-view+json": {
       "model_id": "d7c31bd420074138964843d1644e40af",
       "version_major": 2,
       "version_minor": 0
      },
      "text/plain": [
       "VBox(children=(HTML(value='<h3>Interactive Structure Explorer</h3>'), HBox(children=(Dropdown(description='Str…"
      ]
     },
     "metadata": {},
     "output_type": "display_data"
    }
   ],
   "source": [
    "def create_interactive_explorer(downloaded_structures):\n",
    "    \"\"\"\n",
    "    Create interactive widget for exploring different structures and styles\n",
    "    \"\"\"\n",
    "    if not downloaded_structures:\n",
    "        print(\"No structures available for interactive exploration.\")\n",
    "        return None\n",
    "    \n",
    "    # Create dropdown options\n",
    "    structure_options = [(f\"{s['pdb_id']} (E-val: {s['evalue']:.1e})\", s) for s in downloaded_structures]\n",
    "    \n",
    "    # Widgets\n",
    "    structure_dropdown = widgets.Dropdown(\n",
    "        options=structure_options,\n",
    "        description='Structure:',\n",
    "        style={'description_width': 'initial'}\n",
    "    )\n",
    "    \n",
    "    style_dropdown = widgets.Dropdown(\n",
    "        options=[\n",
    "            ('Cartoon', 'cartoon'),\n",
    "            ('Surface', 'surface'), \n",
    "            ('Ball & Stick', 'ball_stick'),\n",
    "            ('Ribbon', 'ribbon'),\n",
    "            ('Spacefill', 'spacefill')\n",
    "        ],\n",
    "        value='cartoon',\n",
    "        description='Style:'\n",
    "    )\n",
    "    \n",
    "    info_output = widgets.Output()\n",
    "    viz_output = widgets.Output()\n",
    "    \n",
    "    def update_visualization(*args):\n",
    "        with info_output:\n",
    "            info_output.clear_output()\n",
    "            selected_structure = structure_dropdown.value\n",
    "            \n",
    "            print(f\"PDB ID: {selected_structure['pdb_id']}\")\n",
    "            print(f\"Rank: #{selected_structure['rank']}\")\n",
    "            print(f\"E-value: {selected_structure['evalue']:.2e}\")\n",
    "            print(f\"Bit Score: {selected_structure['bitscore']:.1f}\")\n",
    "            print(f\"Identity: {selected_structure['identity']}/{selected_structure['alignment_length']} ({selected_structure['identity']/selected_structure['alignment_length']*100:.1f}%)\")\n",
    "            print(f\"Description: {selected_structure['description']}\")\n",
    "        \n",
    "        with viz_output:\n",
    "            viz_output.clear_output()\n",
    "            selected_style = style_dropdown.value\n",
    "            \n",
    "            view = create_styled_visualization(selected_structure, selected_style)\n",
    "            if view:\n",
    "                display(view)\n",
    "    \n",
    "    # Connect events\n",
    "    structure_dropdown.observe(update_visualization, names='value')\n",
    "    style_dropdown.observe(update_visualization, names='value')\n",
    "    \n",
    "    # Initial display\n",
    "    update_visualization()\n",
    "    \n",
    "    # Create interface\n",
    "    interface = widgets.VBox([\n",
    "        widgets.HTML(\"<h3>Interactive Structure Explorer</h3>\"),\n",
    "        widgets.HBox([structure_dropdown, style_dropdown]),\n",
    "        info_output,\n",
    "        viz_output\n",
    "    ])\n",
    "    \n",
    "    return interface\n",
    "\n",
    "# Create interactive explorer\n",
    "if 'downloaded_structures' in locals():\n",
    "    interactive_explorer = create_interactive_explorer(downloaded_structures)\n",
    "    if interactive_explorer:\n",
    "        display(interactive_explorer)\n",
    "else:\n",
    "    print(\"No downloaded structures available. Please run previous cells first.\")"
   ]
  },
  {
   "cell_type": "markdown",
   "metadata": {},
   "source": [
    "## Cell 9: Alignment Region Highlighting"
   ]
  },
  {
   "cell_type": "code",
   "execution_count": 22,
   "metadata": {},
   "outputs": [
    {
     "name": "stdout",
     "output_type": "stream",
     "text": [
      "Visualizations with highlighted alignment regions:\n",
      "\n",
      "=== 3IYX - Alignment Highlighting ===\n",
      "Aligned region: 0-118 (chain M)\n",
      "Query region: 0-118\n"
     ]
    },
    {
     "data": {
      "application/vnd.jupyter.widget-view+json": {
       "model_id": "3f819be37bc54b08bcb55368c9238472",
       "version_major": 2,
       "version_minor": 0
      },
      "text/plain": [
       "NGLWidget()"
      ]
     },
     "metadata": {},
     "output_type": "display_data"
    },
    {
     "name": "stdout",
     "output_type": "stream",
     "text": [
      "\n",
      "============================================================\n",
      "\n"
     ]
    }
   ],
   "source": [
    "def highlight_alignment_region(pdb_info, blast_hit):\n",
    "    \"\"\"\n",
    "    Create visualization with highlighted alignment region\n",
    "    \"\"\"\n",
    "    try:\n",
    "        parser = PDBParser(QUIET=True)\n",
    "        structure = parser.get_structure(pdb_info['pdb_id'], pdb_info['file_path'])\n",
    "        \n",
    "        # Create view\n",
    "        view = nv.show_biopython(structure)\n",
    "        view.clear_representations()\n",
    "        \n",
    "        # Get alignment boundaries\n",
    "        hit_start = pdb_info['hit_start']\n",
    "        hit_end = pdb_info['hit_end']\n",
    "        chain_id = pdb_info['chain']\n",
    "        \n",
    "        # Add representations\n",
    "        # Entire structure in gray\n",
    "        view.add_cartoon(color='gray', opacity=0.3)\n",
    "        \n",
    "        # Aligned region in red\n",
    "        try:\n",
    "            view.add_cartoon(\n",
    "                selection=f\":{chain_id} and {hit_start}-{hit_end}\", \n",
    "                color='red'\n",
    "            )\n",
    "        except:\n",
    "            # If specific chain selection fails, highlight entire structure\n",
    "            view.add_cartoon(color='spectrum')\n",
    "        \n",
    "        return view\n",
    "        \n",
    "    except Exception as e:\n",
    "        print(f\"Error highlighting alignment: {e}\")\n",
    "        return create_basic_visualization(pdb_info)\n",
    "\n",
    "# Create alignment highlighting for top hits\n",
    "if 'downloaded_structures' in locals() and 'blast_results' in locals():\n",
    "    print(\"Visualizations with highlighted alignment regions:\\n\")\n",
    "    \n",
    "    for i, pdb_info in enumerate(downloaded_structures[:2]):  # Show first 2\n",
    "        print(f\"=== {pdb_info['pdb_id']} - Alignment Highlighting ===\")\n",
    "        print(f\"Aligned region: {pdb_info['hit_start']}-{pdb_info['hit_end']} (chain {pdb_info['chain']})\")\n",
    "        print(f\"Query region: {pdb_info['query_start']}-{pdb_info['query_end']}\")\n",
    "        \n",
    "        # Find corresponding BLAST hit\n",
    "        blast_hit = blast_results[i]\n",
    "        \n",
    "        view = highlight_alignment_region(pdb_info, blast_hit)\n",
    "        if view:\n",
    "            display(view)\n",
    "        \n",
    "        print(\"\\n\" + \"=\"*60 + \"\\n\")\n",
    "else:\n",
    "    print(\"Required data not available. Please run previous cells first.\")"
   ]
  },
  {
   "cell_type": "markdown",
   "metadata": {},
   "source": [
    "## Cell 10: Summary and Export Results"
   ]
  },
  {
   "cell_type": "code",
   "execution_count": 23,
   "metadata": {},
   "outputs": [
    {
     "name": "stdout",
     "output_type": "stream",
     "text": [
      "=== BLAST to 3D Visualization Summary ===\n",
      "Query sequence length: 118 amino acids\n",
      "Total BLAST hits found: 20\n",
      "PDB structures downloaded: 1\n",
      "Structures visualized: 1\n",
      "\n",
      "=== Top 5 Hits Summary ===\n"
     ]
    },
    {
     "data": {
      "text/html": [
       "<div>\n",
       "<style scoped>\n",
       "    .dataframe tbody tr th:only-of-type {\n",
       "        vertical-align: middle;\n",
       "    }\n",
       "\n",
       "    .dataframe tbody tr th {\n",
       "        vertical-align: top;\n",
       "    }\n",
       "\n",
       "    .dataframe thead th {\n",
       "        text-align: right;\n",
       "    }\n",
       "</style>\n",
       "<table border=\"1\" class=\"dataframe\">\n",
       "  <thead>\n",
       "    <tr style=\"text-align: right;\">\n",
       "      <th></th>\n",
       "      <th>rank</th>\n",
       "      <th>pdb_id</th>\n",
       "      <th>evalue</th>\n",
       "      <th>bitscore</th>\n",
       "      <th>identity</th>\n",
       "      <th>alignment_length</th>\n",
       "    </tr>\n",
       "  </thead>\n",
       "  <tbody>\n",
       "    <tr>\n",
       "      <th>0</th>\n",
       "      <td>1</td>\n",
       "      <td>3IYX</td>\n",
       "      <td>7.788200e-82</td>\n",
       "      <td>236.498</td>\n",
       "      <td>118</td>\n",
       "      <td>118</td>\n",
       "    </tr>\n",
       "  </tbody>\n",
       "</table>\n",
       "</div>"
      ],
      "text/plain": [
       "   rank pdb_id        evalue  bitscore  identity  alignment_length\n",
       "0     1   3IYX  7.788200e-82   236.498       118               118"
      ]
     },
     "metadata": {},
     "output_type": "display_data"
    },
    {
     "name": "stdout",
     "output_type": "stream",
     "text": [
      "\n",
      "✓ Results saved to 'Sequence_data/blast_pdb_results.csv'\n",
      "\n",
      "=== Downloaded PDB Files ===\n",
      "✓ 3IYX.pdb (44.9 KB)\n",
      "\n",
      "=== Workflow Complete! ===\n",
      "You have successfully:\n",
      "1. ✓ Performed BLAST search against PDB database\n",
      "2. ✓ Extracted PDB IDs from results\n",
      "3. ✓ Downloaded PDB structure files\n",
      "4. ✓ Created 3D visualizations with nglview\n",
      "5. ✓ Explored different visualization styles\n",
      "6. ✓ Highlighted alignment regions\n"
     ]
    }
   ],
   "source": [
    "# Create summary of results\n",
    "if 'downloaded_structures' in locals():\n",
    "    print(\"=== BLAST to 3D Visualization Summary ===\")\n",
    "    print(f\"Query sequence length: {blast_results.seq_len if 'blast_results' in locals() else 'N/A'} amino acids\")\n",
    "    print(f\"Total BLAST hits found: {len(blast_results) if 'blast_results' in locals() else 'N/A'}\")\n",
    "    print(f\"PDB structures downloaded: {len(downloaded_structures)}\")\n",
    "    print(f\"Structures visualized: {min(len(downloaded_structures), 3)}\")\n",
    "    \n",
    "    print(\"\\n=== Top 5 Hits Summary ===\")\n",
    "    summary_df = pd.DataFrame(downloaded_structures)\n",
    "    display(summary_df[['rank', 'pdb_id', 'evalue', 'bitscore', 'identity', 'alignment_length']].head())\n",
    "    \n",
    "    # Save results to CSV\n",
    "    summary_df.to_csv('Sequence_data/blast_pdb_results.csv', index=False)\n",
    "    print(\"\\n✓ Results saved to 'Sequence_data/blast_pdb_results.csv'\")\n",
    "    \n",
    "    # List downloaded PDB files\n",
    "    print(\"\\n=== Downloaded PDB Files ===\")\n",
    "    for structure in downloaded_structures:\n",
    "        if os.path.exists(structure['file_path']):\n",
    "            file_size = os.path.getsize(structure['file_path']) / 1024  # KB\n",
    "            print(f\"✓ {structure['pdb_id']}.pdb ({file_size:.1f} KB)\")\n",
    "    \n",
    "else:\n",
    "    print(\"No results to summarize. Please run the previous cells first.\")\n",
    "\n",
    "print(\"\\n=== Workflow Complete! ===\")\n",
    "print(\"You have successfully:\")\n",
    "print(\"1. ✓ Performed BLAST search against PDB database\")\n",
    "print(\"2. ✓ Extracted PDB IDs from results\")\n",
    "print(\"3. ✓ Downloaded PDB structure files\")\n",
    "print(\"4. ✓ Created 3D visualizations with nglview\")\n",
    "print(\"5. ✓ Explored different visualization styles\")\n",
    "print(\"6. ✓ Highlighted alignment regions\")"
   ]
  }
 ],
 "metadata": {
  "kernelspec": {
   "display_name": "Python 3",
   "language": "python",
   "name": "python3"
  },
  "language_info": {
   "codemirror_mode": {
    "name": "ipython",
    "version": 3
   },
   "file_extension": ".py",
   "mimetype": "text/x-python",
   "name": "python",
   "nbconvert_exporter": "python",
   "pygments_lexer": "ipython3",
   "version": "3.13.7"
  }
 },
 "nbformat": 4,
 "nbformat_minor": 4
}
